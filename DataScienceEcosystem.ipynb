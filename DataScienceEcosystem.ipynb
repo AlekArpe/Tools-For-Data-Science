{
 "cells": [
  {
   "cell_type": "markdown",
   "id": "a9965f70",
   "metadata": {},
   "source": [
    "# Data Science Tools and Ecosystem"
   ]
  },
  {
   "cell_type": "markdown",
   "id": "b298e6a2",
   "metadata": {},
   "source": [
    "#### In this notebook, Data Science Tools and Ecosystem are summarized."
   ]
  },
  {
   "cell_type": "markdown",
   "id": "02735ef6",
   "metadata": {},
   "source": [
    "**Objectives**\n",
    "- List popular languages of data science\n",
    "- List commonly used libraries of data science\n",
    "- List commonly used data science tools\n",
    "- Demonstrate the use of arithmetic expressions in Python"
   ]
  },
  {
   "cell_type": "markdown",
   "id": "410a1507",
   "metadata": {},
   "source": [
    "Some of the popular languages that Data Scientists use are:\n",
    "\n",
    "1. Python\n",
    "2. R\n",
    "3. Julia"
   ]
  },
  {
   "cell_type": "markdown",
   "id": "33734035",
   "metadata": {},
   "source": [
    "Some of the commonly used libraries by Data Scientists include:\n",
    "1. Pandas\n",
    "2. ggplot\n",
    "3. Matplotlib\n",
    "4. Scikit-learn\n",
    "5. Keras"
   ]
  },
  {
   "cell_type": "markdown",
   "id": "1107db14",
   "metadata": {},
   "source": [
    "| Data Science Tools |\n",
    "| ------------------ |\n",
    "| R Studio |\n",
    "| Github |\n",
    "| Jupyter |"
   ]
  },
  {
   "cell_type": "markdown",
   "id": "88929f68",
   "metadata": {},
   "source": [
    "### Below are a few examples of evaluating arithmetic expresssions in Python."
   ]
  },
  {
   "cell_type": "code",
   "execution_count": 8,
   "id": "e00906c4",
   "metadata": {},
   "outputs": [
    {
     "data": {
      "text/plain": [
       "17"
      ]
     },
     "execution_count": 8,
     "metadata": {},
     "output_type": "execute_result"
    }
   ],
   "source": [
    "# This is a simple arithmetic expression to multoply then add integers.\n",
    "(3 * 4) + 5"
   ]
  },
  {
   "cell_type": "code",
   "execution_count": 9,
   "id": "ddab98dd",
   "metadata": {},
   "outputs": [
    {
     "data": {
      "text/plain": [
       "3.3333333333333335"
      ]
     },
     "execution_count": 9,
     "metadata": {},
     "output_type": "execute_result"
    }
   ],
   "source": [
    "# This will convert 200 minutes to hours by dividing by 60\n",
    "200 / 60"
   ]
  },
  {
   "cell_type": "markdown",
   "id": "aa3f8b6c",
   "metadata": {},
   "source": [
    "## Author\n",
    "Alek Arpe"
   ]
  }
 ],
 "metadata": {
  "kernelspec": {
   "display_name": "Python 3 (ipykernel)",
   "language": "python",
   "name": "python3"
  },
  "language_info": {
   "codemirror_mode": {
    "name": "ipython",
    "version": 3
   },
   "file_extension": ".py",
   "mimetype": "text/x-python",
   "name": "python",
   "nbconvert_exporter": "python",
   "pygments_lexer": "ipython3",
   "version": "3.9.7"
  }
 },
 "nbformat": 4,
 "nbformat_minor": 5
}
